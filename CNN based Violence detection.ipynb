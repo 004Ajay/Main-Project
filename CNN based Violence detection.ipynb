{
 "cells": [
  {
   "cell_type": "code",
   "execution_count": 5,
   "metadata": {},
   "outputs": [],
   "source": [
    "import numpy as np \n",
    "import pandas as pd \n",
    "import matplotlib.pyplot as plt\n",
    "import os\n",
    "import cv2\n",
    "from keras.models import Sequential\n",
    "from keras.layers import Conv3D, MaxPooling3D, Flatten, Dense\n",
    "\n"
   ]
  },
  {
   "cell_type": "code",
   "execution_count": 6,
   "metadata": {},
   "outputs": [],
   "source": [
    "# Define paths to your data\n",
    "violence_dir = 'D:/Git-Uploads/Main Project/Main-Project/violence_data/train/Fight'\n",
    "non_violence_dir = 'D:/Git-Uploads/Main Project/Main-Project/violence_data/train/NonFight'"
   ]
  },
  {
   "cell_type": "code",
   "execution_count": 7,
   "metadata": {},
   "outputs": [],
   "source": [
    "# Define video dimensions and batch size\n",
    "img_width, img_height = 150, 150\n",
    "batch_size = 32\n",
    "\n",
    "# Function to load and preprocess video data\n",
    "def load_video(video_path):\n",
    "    frames = []\n",
    "    cap = cv2.VideoCapture(video_path)\n",
    "    total_frames = int(cap.get(cv2.CAP_PROP_FRAME_COUNT))\n",
    "    target_frames = total_frames // 2  # Use 50% of all frames\n",
    "    \n",
    "    #target_frames = 10\n",
    "    frame_index = 0\n",
    "    while len(frames) < target_frames:\n",
    "        ret, frame = cap.read()\n",
    "        if not ret:\n",
    "            break\n",
    "        if frame_index % 2 == 0:  # Include every other frame\n",
    "            frame = cv2.resize(frame, (img_width, img_height))\n",
    "            frames.append(frame)\n",
    "        frame_index += 1\n",
    "    cap.release()\n",
    "    frames = np.array(frames) / 255.0  # Normalize pixel values\n",
    "    return frames"
   ]
  },
  {
   "cell_type": "code",
   "execution_count": 8,
   "metadata": {},
   "outputs": [
    {
     "ename": "KeyboardInterrupt",
     "evalue": "",
     "output_type": "error",
     "traceback": [
      "\u001b[1;31m---------------------------------------------------------------------------\u001b[0m",
      "\u001b[1;31mKeyboardInterrupt\u001b[0m                         Traceback (most recent call last)",
      "Cell \u001b[1;32mIn[8], line 5\u001b[0m\n\u001b[0;32m      3\u001b[0m \u001b[38;5;28;01mfor\u001b[39;00m filename \u001b[38;5;129;01min\u001b[39;00m os\u001b[38;5;241m.\u001b[39mlistdir(violence_dir):\n\u001b[0;32m      4\u001b[0m     video_path \u001b[38;5;241m=\u001b[39m os\u001b[38;5;241m.\u001b[39mpath\u001b[38;5;241m.\u001b[39mjoin(violence_dir, filename)\n\u001b[1;32m----> 5\u001b[0m     frames \u001b[38;5;241m=\u001b[39m load_video(video_path)\n\u001b[0;32m      6\u001b[0m     violence_videos\u001b[38;5;241m.\u001b[39mappend(frames)\n\u001b[0;32m      8\u001b[0m \u001b[38;5;66;03m# Load non-violence videos\u001b[39;00m\n",
      "Cell \u001b[1;32mIn[7], line 13\u001b[0m, in \u001b[0;36mload_video\u001b[1;34m(video_path)\u001b[0m\n\u001b[0;32m     11\u001b[0m frame_index \u001b[38;5;241m=\u001b[39m \u001b[38;5;241m0\u001b[39m\n\u001b[0;32m     12\u001b[0m \u001b[38;5;28;01mwhile\u001b[39;00m \u001b[38;5;28mlen\u001b[39m(frames) \u001b[38;5;241m<\u001b[39m target_frames:\n\u001b[1;32m---> 13\u001b[0m     ret, frame \u001b[38;5;241m=\u001b[39m cap\u001b[38;5;241m.\u001b[39mread()\n\u001b[0;32m     14\u001b[0m     \u001b[38;5;28;01mif\u001b[39;00m \u001b[38;5;129;01mnot\u001b[39;00m ret:\n\u001b[0;32m     15\u001b[0m         \u001b[38;5;28;01mbreak\u001b[39;00m\n",
      "\u001b[1;31mKeyboardInterrupt\u001b[0m: "
     ]
    }
   ],
   "source": [
    "# Load violence videos\n",
    "violence_videos = []\n",
    "for filename in os.listdir(violence_dir):\n",
    "    video_path = os.path.join(violence_dir, filename)\n",
    "    frames = load_video(video_path)\n",
    "    violence_videos.append(frames)\n",
    "\n",
    "# Load non-violence videos\n",
    "non_violence_videos = []\n",
    "for filename in os.listdir(non_violence_dir):\n",
    "    video_path = os.path.join(non_violence_dir, filename)\n",
    "    frames = load_video(video_path)\n",
    "    non_violence_videos.append(frames)"
   ]
  },
  {
   "cell_type": "code",
   "execution_count": null,
   "metadata": {},
   "outputs": [],
   "source": []
  }
 ],
 "metadata": {
  "kernelspec": {
   "display_name": "Python 3",
   "language": "python",
   "name": "python3"
  },
  "language_info": {
   "codemirror_mode": {
    "name": "ipython",
    "version": 3
   },
   "file_extension": ".py",
   "mimetype": "text/x-python",
   "name": "python",
   "nbconvert_exporter": "python",
   "pygments_lexer": "ipython3",
   "version": "3.11.4"
  }
 },
 "nbformat": 4,
 "nbformat_minor": 2
}
