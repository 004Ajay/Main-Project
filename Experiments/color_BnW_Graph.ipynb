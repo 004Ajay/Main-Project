{
 "cells": [
  {
   "cell_type": "code",
   "execution_count": 1,
   "metadata": {},
   "outputs": [],
   "source": [
    "## NOTE: This script will analyze the video to determine if it is\n",
    "#        black and white or color, and deletes the original video after processing.\n",
    "# MAKE A COPY OF YOUR ORIGINAL DATA"
   ]
  },
  {
   "cell_type": "code",
   "execution_count": 2,
   "metadata": {},
   "outputs": [],
   "source": [
    "import os\n",
    "import cv2\n",
    "import numpy as np\n",
    "import matplotlib.pyplot as plt"
   ]
  },
  {
   "cell_type": "code",
   "execution_count": 3,
   "metadata": {},
   "outputs": [
    {
     "name": "stdout",
     "output_type": "stream",
     "text": [
      "Training results: {'Black and White': 274, 'Color': 526}\n",
      "Validation results: {'Black and White': 47, 'Color': 153}\n"
     ]
    }
   ],
   "source": [
    "import os\n",
    "import cv2\n",
    "import numpy as np\n",
    "\n",
    "# Initialize global counters\n",
    "bw_count = 0\n",
    "color_count = 0\n",
    "\n",
    "def is_black_and_white(video_path):\n",
    "    cap = cv2.VideoCapture(video_path)\n",
    "    total_frames = int(cap.get(cv2.CAP_PROP_FRAME_COUNT))\n",
    "    sampled_frames = np.linspace(0, total_frames - 1, 10).astype(int)\n",
    "\n",
    "    for frame_index in sampled_frames:\n",
    "        cap.set(cv2.CAP_PROP_POS_FRAMES, frame_index)\n",
    "        ret, frame = cap.read()\n",
    "        if not ret:\n",
    "            continue\n",
    "\n",
    "        hsv_frame = cv2.cvtColor(frame, cv2.COLOR_BGR2HSV)\n",
    "        _, saturation, _ = cv2.split(hsv_frame)\n",
    "\n",
    "        if np.mean(saturation) > 25:\n",
    "            cap.release()\n",
    "            return False\n",
    "\n",
    "    cap.release()\n",
    "    return True\n",
    "\n",
    "def process_video(video_path):\n",
    "    global bw_count, color_count\n",
    "    \n",
    "    if is_black_and_white(video_path):\n",
    "        bw_count += 1\n",
    "    else:\n",
    "        color_count += 1\n",
    "    \n",
    "    os.remove(video_path)\n",
    "\n",
    "def process_folder(base_folder):\n",
    "    global bw_count, color_count\n",
    "    \n",
    "    bw_count, color_count = 0, 0\n",
    "    subdirectories = [f for f in os.listdir(base_folder) if os.path.isdir(os.path.join(base_folder, f))]\n",
    "\n",
    "    for subdirectory in subdirectories:\n",
    "        subdirectory_path = os.path.join(base_folder, subdirectory)\n",
    "        files = os.listdir(subdirectory_path)\n",
    "\n",
    "        for file in files:\n",
    "            if file.endswith(\".avi\"):\n",
    "                video_path = os.path.join(subdirectory_path, file)\n",
    "                process_video(video_path)\n",
    "    \n",
    "    return {\"Black and White\": bw_count, \"Color\": color_count}\n",
    "\n",
    "def main(dataset_directory):\n",
    "    train_results = process_folder(os.path.join(dataset_directory, \"train\"))\n",
    "    print(f\"Training results: {train_results}\")\n",
    "    \n",
    "    validation_results = process_folder(os.path.join(dataset_directory, \"val\"))\n",
    "    print(f\"Validation results: {validation_results}\")\n",
    "    \n",
    "    return {\n",
    "        \"Train\": train_results,\n",
    "        \"Validation\": validation_results\n",
    "    }\n",
    "\n",
    "# Define the directory path\n",
    "dir = r\"D:\\Main Project\\Hockey data\\HockeyFightOriginalCopy\"\n",
    "\n",
    "# Call the main function and capture results\n",
    "data = main(dir)\n"
   ]
  },
  {
   "cell_type": "markdown",
   "metadata": {},
   "source": [
    "Processed folder: D:\\Main Project\\Hockey data\\HockeyFightOriginalCopy/train\n",
    "\n",
    "Black and White Videos: 274\n",
    "\n",
    "Color Videos: 526\n",
    "\n",
    "Processed folder: D:\\Main Project\\Hockey data\\HockeyFightOriginalCopy/val\n",
    "\n",
    "Black and White Videos: 47\n",
    "\n",
    "Color Videos: 153"
   ]
  },
  {
   "cell_type": "code",
   "execution_count": 4,
   "metadata": {},
   "outputs": [
    {
     "data": {
      "image/png": "[encoded data removed]",
      "text/plain": [
       "<Figure size 500x300 with 1 Axes>"
      ]
     },
     "metadata": {},
     "output_type": "display_data"
    }
   ],
   "source": [
    "# # Data from the output\n",
    "# data = {\n",
    "#     \"Train\": {\"Black and White\": 255, \"Color\": 1345},\n",
    "#     \"Validation\": {\"Black and White\": 41, \"Color\": 359}\n",
    "# }\n",
    "\n",
    "# Create lists for plotting\n",
    "categories = list(data.keys())\n",
    "bw_counts = [data[category][\"Black and White\"] for category in categories]\n",
    "color_counts = [data[category][\"Color\"] for category in categories]\n",
    "\n",
    "# Plotting\n",
    "fig, ax = plt.subplots(figsize=(5, 3))\n",
    "\n",
    "# Reduced bar width and adjusted positions closer together\n",
    "barWidth = 0.1\n",
    "r1 = np.arange(len(categories))\n",
    "r2 = [x + barWidth for x in r1]\n",
    "\n",
    "# Make the plot\n",
    "bars1 = ax.bar(r1, bw_counts, color='gray', width=barWidth, edgecolor='grey', label='Black and White')\n",
    "bars2 = ax.bar(r2, color_counts, color='red', width=barWidth, edgecolor='grey', label='Color')\n",
    "\n",
    "# Add counts above the bars\n",
    "def add_labels(bars):\n",
    "    for bar in bars:\n",
    "        height = bar.get_height()\n",
    "        ax.annotate(f'{height}',\n",
    "                    xy=(bar.get_x() + bar.get_width() / 2, height),\n",
    "                    xytext=(0, 3),  # 3 points vertical offset\n",
    "                    textcoords=\"offset points\",\n",
    "                    ha='center', va='bottom')\n",
    "\n",
    "add_labels(bars1)\n",
    "add_labels(bars2)\n",
    "\n",
    "# Adjust x-axis labels closer\n",
    "ax.set_xticks(r1 + barWidth/2)\n",
    "ax.set_xticklabels(categories)\n",
    "\n",
    "# Setting plot details\n",
    "ax.set_ylim(0, 2000)\n",
    "ax.set_xlabel('Category', fontweight='bold')\n",
    "ax.set_ylabel('Number of Videos', fontweight='bold')\n",
    "# ax.set_title('Black and White vs Color Videos in Dataset')\n",
    "\n",
    "# Create legend & Show graphic\n",
    "ax.legend()\n",
    "plt.tight_layout()\n",
    "plt.show()\n"
   ]
  }
 ],
 "metadata": {
  "kernelspec": {
   "display_name": "Python 3",
   "language": "python",
   "name": "python3"
  },
  "language_info": {
   "codemirror_mode": {
    "name": "ipython",
    "version": 3
   },
   "file_extension": ".py",
   "mimetype": "text/x-python",
   "name": "python",
   "nbconvert_exporter": "python",
   "pygments_lexer": "ipython3",
   "version": "3.10.11"
  }
 },
 "nbformat": 4,
 "nbformat_minor": 2
}
