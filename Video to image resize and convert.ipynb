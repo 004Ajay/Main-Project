{
 "cells": [
  {
   "cell_type": "markdown",
   "metadata": {},
   "source": [
    "Converts video to frames and saves in folders with the video name "
   ]
  },
  {
   "cell_type": "code",
   "execution_count": 4,
   "metadata": {},
   "outputs": [],
   "source": [
    "import os\n",
    "import cv2\n",
    "\n",
    "# Function to resize the video frames while maintaining the aspect ratio\n",
    "def resize_with_aspect_ratio(frame, target_size):\n",
    "    height, width = frame.shape[:2]\n",
    "    target_width, target_height = target_size\n",
    "\n",
    "    # Calculate the aspect ratio of the original image\n",
    "    aspect_ratio = width / height\n",
    "\n",
    "    # Calculate new dimensions while maintaining aspect ratio\n",
    "    if target_width is not None:\n",
    "        new_width = target_width\n",
    "        new_height = int(new_width / aspect_ratio)\n",
    "    elif target_height is not None:\n",
    "        new_height = target_height\n",
    "        new_width = int(new_height * aspect_ratio)\n",
    "    else:\n",
    "        raise ValueError(\"Either target_width or target_height must be provided\")\n",
    "\n",
    "    # Resize the frame\n",
    "    resized_frame = cv2.resize(frame, (new_width, new_height))\n",
    "\n",
    "    return resized_frame\n",
    "\n",
    "# Function to convert video to JPEG images and resize them\n",
    "def convert_video_to_images(video_path, output_dir, target_size=(None, None)):\n",
    "    # Create output directory if it doesn't exist\n",
    "    if not os.path.exists(output_dir):\n",
    "        os.makedirs(output_dir)\n",
    "\n",
    "    # Open the video file\n",
    "    cap = cv2.VideoCapture(video_path)\n",
    "    total_frames = int(cap.get(cv2.CAP_PROP_FRAME_COUNT))\n",
    "\n",
    "    # Read and save each frame as a JPEG image\n",
    "    for i in range(total_frames):\n",
    "        ret, frame = cap.read()\n",
    "        if not ret:\n",
    "            break\n",
    "        # Resize the frame while maintaining aspect ratio\n",
    "        resized_frame = resize_with_aspect_ratio(frame, target_size)\n",
    "        # Save the resized frame as a JPEG image\n",
    "        cv2.imwrite(os.path.join(output_dir, f\"frame_{i:04d}.jpg\"), resized_frame)\n",
    "\n",
    "    # Release the video capture object\n",
    "    cap.release()\n",
    "\n",
    "# Example usage\n",
    "video_folder = 'D:/Git-Uploads/Main Project/Main-Project/violence_data/train/NonFight'\n",
    "output_folder = 'D:/Git-Uploads/Main Project/Non-Violence Train Images'\n",
    "\n",
    "for video_file in os.listdir(video_folder):\n",
    "    if video_file.endswith('.avi'):  # Assuming the videos are in avi format\n",
    "        video_path = os.path.join(video_folder, video_file)\n",
    "        output_dir = os.path.join(output_folder, os.path.splitext(video_file)[0])  # Create a subfolder for each video\n",
    "        convert_video_to_images(video_path, output_dir, target_size=(720, 480))  # Resize to maximum width of 720 pixels and maximum height of 480 pixels while maintaining aspect ratio\n"
   ]
  },
  {
   "cell_type": "markdown",
   "metadata": {},
   "source": [
    "Code to transfer files from multiple folders to a single folder"
   ]
  },
  {
   "cell_type": "code",
   "execution_count": 3,
   "metadata": {},
   "outputs": [
    {
     "name": "stdout",
     "output_type": "stream",
     "text": [
      "Images transferred successfully.\n"
     ]
    }
   ],
   "source": [
    "import os\n",
    "import shutil\n",
    "\n",
    "def transfer_images(source_dir, destination_dir):\n",
    "    # Create the destination directory if it doesn't exist\n",
    "    if not os.path.exists(destination_dir):\n",
    "        os.makedirs(destination_dir)\n",
    "\n",
    "    # Initialize a counter for the numerical identifier\n",
    "    counter = 1\n",
    "\n",
    "    # Loop through each subfolder in the source directory\n",
    "    for subdir in os.listdir(source_dir):\n",
    "        subdir_path = os.path.join(source_dir, subdir)\n",
    "        \n",
    "        # Check if the subfolder is a directory\n",
    "        if os.path.isdir(subdir_path):\n",
    "            # Loop through files in the subfolder\n",
    "            for filename in os.listdir(subdir_path):\n",
    "                # Get the full path of the file\n",
    "                file_path = os.path.join(subdir_path, filename)\n",
    "                # Check if the file is a regular file\n",
    "                if os.path.isfile(file_path):\n",
    "                    # Construct the new filename with the numerical identifier\n",
    "                    new_filename = f\"{counter:04d}_{filename}\"  # Use 4 digits with leading zeros\n",
    "                    # Move the file to the destination directory with the new filename\n",
    "                    shutil.move(file_path, os.path.join(destination_dir, new_filename))\n",
    "                    \n",
    "                    # Print the current count value, overwriting the previous print\n",
    "                    print(f\"Count: {counter}\", end='\\r')\n",
    "                    counter += 1\n",
    "\n",
    "    print(\"\\nImages transferred successfully.\")\n",
    "\n",
    "# Usage\n",
    "source_directory = 'D:/Git-Uploads/Main Project/Non-Violence Train Images'  # Directory containing subfolders of images\n",
    "destination_directory = 'D:/Git-Uploads/Main Project/Main-Project/Non-violence trian data'  # Destination directory to store the transferred images\n",
    "\n",
    "transfer_images(source_directory, destination_directory)\n"
   ]
  }
 ],
 "metadata": {
  "kernelspec": {
   "display_name": "base",
   "language": "python",
   "name": "python3"
  },
  "language_info": {
   "codemirror_mode": {
    "name": "ipython",
    "version": 3
   },
   "file_extension": ".py",
   "mimetype": "text/x-python",
   "name": "python",
   "nbconvert_exporter": "python",
   "pygments_lexer": "ipython3",
   "version": "3.10.5"
  }
 },
 "nbformat": 4,
 "nbformat_minor": 2
}
