{
 "cells": [
  {
   "cell_type": "code",
   "execution_count": 2,
   "metadata": {},
   "outputs": [],
   "source": [
    "import os\n",
    "import cv2\n",
    "\n",
    "# Function to resize the video frames while maintaining the aspect ratio\n",
    "def resize_with_aspect_ratio(frame, target_size):\n",
    "    height, width = frame.shape[:2]\n",
    "    target_width, target_height = target_size\n",
    "\n",
    "    # Calculate the aspect ratio of the original image\n",
    "    aspect_ratio = width / height\n",
    "\n",
    "    # Calculate new dimensions while maintaining aspect ratio\n",
    "    if target_width is not None:\n",
    "        new_width = target_width\n",
    "        new_height = int(new_width / aspect_ratio)\n",
    "    elif target_height is not None:\n",
    "        new_height = target_height\n",
    "        new_width = int(new_height * aspect_ratio)\n",
    "    else:\n",
    "        raise ValueError(\"Either target_width or target_height must be provided\")\n",
    "\n",
    "    # Resize the frame\n",
    "    resized_frame = cv2.resize(frame, (new_width, new_height))\n",
    "\n",
    "    return resized_frame\n",
    "\n",
    "# Function to convert video to JPEG images and resize them\n",
    "def convert_video_to_images(video_path, output_dir, target_size=(None, None)):\n",
    "    # Create output directory if it doesn't exist\n",
    "    if not os.path.exists(output_dir):\n",
    "        os.makedirs(output_dir)\n",
    "\n",
    "    # Open the video file\n",
    "    cap = cv2.VideoCapture(video_path)\n",
    "    total_frames = int(cap.get(cv2.CAP_PROP_FRAME_COUNT))\n",
    "\n",
    "    # Read and save each frame as a JPEG image\n",
    "    for i in range(total_frames):\n",
    "        ret, frame = cap.read()\n",
    "        if not ret:\n",
    "            break\n",
    "        # Resize the frame while maintaining aspect ratio\n",
    "        resized_frame = resize_with_aspect_ratio(frame, target_size)\n",
    "        # Save the resized frame as a JPEG image\n",
    "        cv2.imwrite(os.path.join(output_dir, f\"frame_{i:04d}.jpg\"), resized_frame)\n",
    "\n",
    "    # Release the video capture object\n",
    "    cap.release()\n",
    "\n",
    "# Example usage\n",
    "video_folder = 'D:/Git-Uploads/Main Project/Main-Project/violence_data/train/Fight'\n",
    "output_folder = 'D:/Git-Uploads/Main Project/Video image train'\n",
    "\n",
    "for video_file in os.listdir(video_folder):\n",
    "    if video_file.endswith('.avi'):  # Assuming the videos are in avi format\n",
    "        video_path = os.path.join(video_folder, video_file)\n",
    "        output_dir = os.path.join(output_folder, os.path.splitext(video_file)[0])  # Create a subfolder for each video\n",
    "        convert_video_to_images(video_path, output_dir, target_size=(720, 480))  # Resize to maximum width of 720 pixels and maximum height of 480 pixels while maintaining aspect ratio\n"
   ]
  },
  {
   "cell_type": "code",
   "execution_count": null,
   "metadata": {},
   "outputs": [],
   "source": []
  }
 ],
 "metadata": {
  "kernelspec": {
   "display_name": "base",
   "language": "python",
   "name": "python3"
  },
  "language_info": {
   "codemirror_mode": {
    "name": "ipython",
    "version": 3
   },
   "file_extension": ".py",
   "mimetype": "text/x-python",
   "name": "python",
   "nbconvert_exporter": "python",
   "pygments_lexer": "ipython3",
   "version": "3.10.5"
  }
 },
 "nbformat": 4,
 "nbformat_minor": 2
}
